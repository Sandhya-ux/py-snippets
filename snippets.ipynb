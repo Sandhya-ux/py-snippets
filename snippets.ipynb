{
  "nbformat": 4,
  "nbformat_minor": 0,
  "metadata": {
    "colab": {
      "name": "snippets.ipynb",
      "provenance": [],
      "collapsed_sections": [],
      "authorship_tag": "ABX9TyOWj3aFJ+KkHQ75tZUzp+nv",
      "include_colab_link": true
    },
    "kernelspec": {
      "name": "python3",
      "display_name": "Python 3"
    },
    "language_info": {
      "name": "python"
    }
  },
  "cells": [
    {
      "cell_type": "markdown",
      "metadata": {
        "id": "view-in-github",
        "colab_type": "text"
      },
      "source": [
        "<a href=\"https://colab.research.google.com/github/Sandhya-ux/py-snippets/blob/main/snippets.ipynb\" target=\"_parent\"><img src=\"https://colab.research.google.com/assets/colab-badge.svg\" alt=\"Open In Colab\"/></a>"
      ]
    },
    {
      "cell_type": "markdown",
      "metadata": {
        "id": "7RGynl8mQ3sy"
      },
      "source": [
        "Clone Repo to local colab"
      ]
    },
    {
      "cell_type": "code",
      "metadata": {
        "id": "V6rkal-PQuaq"
      },
      "source": [
        "!git clone https://github.com/Sandhya-ux/idss_lab_01_complinalg.git\n",
        "%cd idss_lab_01_complinalg"
      ],
      "execution_count": null,
      "outputs": []
    }
  ]
}